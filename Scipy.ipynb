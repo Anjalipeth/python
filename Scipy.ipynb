{
  "nbformat": 4,
  "nbformat_minor": 0,
  "metadata": {
    "colab": {
      "provenance": [],
      "authorship_tag": "ABX9TyMOKH6JzLaSU+D9zZ6/6bt/",
      "include_colab_link": true
    },
    "kernelspec": {
      "name": "python3",
      "display_name": "Python 3"
    },
    "language_info": {
      "name": "python"
    }
  },
  "cells": [
    {
      "cell_type": "markdown",
      "metadata": {
        "id": "view-in-github",
        "colab_type": "text"
      },
      "source": [
        "<a href=\"https://colab.research.google.com/github/Anjalipeth/python/blob/main/Scipy.ipynb\" target=\"_parent\"><img src=\"https://colab.research.google.com/assets/colab-badge.svg\" alt=\"Open In Colab\"/></a>"
      ]
    },
    {
      "cell_type": "markdown",
      "source": [
        "# **What is Scipy?**"
      ],
      "metadata": {
        "id": "t7WbuOh-Rs49"
      }
    },
    {
      "cell_type": "markdown",
      "source": [
        "Scipy is a python used for scientific computing. it contains moduls for optimization, linear algebra, integration,interpolation,special functions, fast fouries Transforms(FFT),signal and image processing,ODE solvers and other tasks comman in science andengineering."
      ],
      "metadata": {
        "id": "_XZHiFCDRxnW"
      }
    },
    {
      "cell_type": "markdown",
      "source": [
        "# **Finding roots of f(x)=0**"
      ],
      "metadata": {
        "id": "hJnfr6UMShvB"
      }
    },
    {
      "cell_type": "markdown",
      "source": [
        "solve this example in python"
      ],
      "metadata": {
        "id": "yyJDaqXQXyFb"
      }
    },
    {
      "cell_type": "markdown",
      "source": [
        " $x^2 - 2x^2 - 5x + 2$"
      ],
      "metadata": {
        "id": "6c0iliN0ZYfU"
      }
    },
    {
      "cell_type": "markdown",
      "source": [
        "$x^2 - 3x^4 - 5x + 2$ Solve the given equation with python code for different values of x"
      ],
      "metadata": {
        "id": "EpAgIGtLaJAQ"
      }
    },
    {
      "cell_type": "code",
      "source": [
        "def f(x):\n",
        "  return x**3 - 3*x**3 - 5*x + 2"
      ],
      "metadata": {
        "id": "lbwRjZ1Ubr6G"
      },
      "execution_count": null,
      "outputs": []
    },
    {
      "cell_type": "markdown",
      "source": [
        "$x^2 - 3x^4 -5x + 5$"
      ],
      "metadata": {
        "id": "puGT3amlc2wJ"
      }
    },
    {
      "cell_type": "code",
      "source": [],
      "metadata": {
        "id": "gKR1xpH3h7mG"
      },
      "execution_count": null,
      "outputs": []
    },
    {
      "cell_type": "code",
      "source": [
        "n = int(input('Enter your desired number: '))\n",
        "f(n)"
      ],
      "metadata": {
        "colab": {
          "base_uri": "https://localhost:8080/"
        },
        "id": "C7Cl_Jk7eUHZ",
        "outputId": "fc876ea7-990d-41cf-a8d9-5cbc15aca01a"
      },
      "execution_count": null,
      "outputs": [
        {
          "name": "stdout",
          "output_type": "stream",
          "text": [
            "Enter your desired number: 7\n"
          ]
        },
        {
          "output_type": "execute_result",
          "data": {
            "text/plain": [
              "-719"
            ]
          },
          "metadata": {},
          "execution_count": 18
        }
      ]
    },
    {
      "cell_type": "code",
      "source": [
        "n = int(input('Enter your derired number: '))\n",
        "f(n)"
      ],
      "metadata": {
        "colab": {
          "base_uri": "https://localhost:8080/"
        },
        "id": "iE0y12iYhUWY",
        "outputId": "c9a9e408-d0a3-41df-b0b2-b72379723c38"
      },
      "execution_count": null,
      "outputs": [
        {
          "name": "stdout",
          "output_type": "stream",
          "text": [
            "Enter your derired number: 9\n"
          ]
        },
        {
          "output_type": "execute_result",
          "data": {
            "text/plain": [
              "-1501"
            ]
          },
          "metadata": {},
          "execution_count": 26
        }
      ]
    },
    {
      "cell_type": "code",
      "source": [
        "n1 = int(input('Enter your desired number:'))\n",
        "n2 = int(input('Enter your desired number:'))\n",
        "f(n1)\n",
        "f(n2)"
      ],
      "metadata": {
        "colab": {
          "base_uri": "https://localhost:8080/"
        },
        "id": "dlAUJH1viDb3",
        "outputId": "4e4e67d6-1e2e-4822-b641-bff4ebebb12e"
      },
      "execution_count": null,
      "outputs": [
        {
          "name": "stdout",
          "output_type": "stream",
          "text": [
            "Enter your desired number:8\n",
            "Enter your desired number:6\n"
          ]
        },
        {
          "output_type": "execute_result",
          "data": {
            "text/plain": [
              "116"
            ]
          },
          "metadata": {},
          "execution_count": 30
        }
      ]
    },
    {
      "cell_type": "code",
      "source": [
        "def f(x):\n",
        "  return x**3 - 2*x**2 - 5*x + 2"
      ],
      "metadata": {
        "id": "76CGZTekRw5t"
      },
      "execution_count": null,
      "outputs": []
    },
    {
      "cell_type": "code",
      "source": [
        "def function(x):\n",
        "  expression= x**3-2*x**2-5*x+2\n",
        "  return expression"
      ],
      "metadata": {
        "id": "4xlW6l4TSyVu"
      },
      "execution_count": null,
      "outputs": []
    },
    {
      "cell_type": "code",
      "source": [
        "f(5)"
      ],
      "metadata": {
        "colab": {
          "base_uri": "https://localhost:8080/"
        },
        "id": "hSHzFUn6Durb",
        "outputId": "54a58625-f6be-4966-9fff-89c3d7e88e05"
      },
      "execution_count": null,
      "outputs": [
        {
          "output_type": "execute_result",
          "data": {
            "text/plain": [
              "52"
            ]
          },
          "metadata": {},
          "execution_count": 2
        }
      ]
    },
    {
      "cell_type": "code",
      "source": [
        "result=function(5)\n",
        "print(result)"
      ],
      "metadata": {
        "colab": {
          "base_uri": "https://localhost:8080/"
        },
        "id": "zwPqmx_WVjlS",
        "outputId": "bc6efe4a-4ec7-4e97-db49-ad6a45e89e72"
      },
      "execution_count": null,
      "outputs": [
        {
          "output_type": "stream",
          "name": "stdout",
          "text": [
            "52\n"
          ]
        }
      ]
    },
    {
      "cell_type": "code",
      "source": [
        "value=float(input('Enter here value of x: '))\n",
        "print('value of the expression is ', function(value))"
      ],
      "metadata": {
        "colab": {
          "base_uri": "https://localhost:8080/"
        },
        "id": "2EG2611gVvEx",
        "outputId": "c2e91cbb-8a28-47ef-e909-b85e90e44aa2"
      },
      "execution_count": null,
      "outputs": [
        {
          "output_type": "stream",
          "name": "stdout",
          "text": [
            "Enter here value of x: 8\n",
            "value of the expression is  346.0\n"
          ]
        }
      ]
    },
    {
      "cell_type": "code",
      "source": [
        "import numpy as np\n",
        "import matplotlib.pyplot as plt\n",
        "%matplotlib inline"
      ],
      "metadata": {
        "id": "dGmBcUiDWH1C"
      },
      "execution_count": null,
      "outputs": []
    },
    {
      "cell_type": "code",
      "source": [
        "x = np.linspace(-2,4,100)\n",
        "y= function(x)\n",
        "plt.plot(x,y)\n",
        "plt.grid()\n",
        "plt.show()"
      ],
      "metadata": {
        "colab": {
          "base_uri": "https://localhost:8080/",
          "height": 434
        },
        "id": "_REs2zlnWmIT",
        "outputId": "b4e4a5de-058d-46cb-ff76-abfaeec88e2c"
      },
      "execution_count": null,
      "outputs": [
        {
          "output_type": "display_data",
          "data": {
            "text/plain": [
              "<Figure size 640x480 with 1 Axes>"
            ],
            "image/png": "[encoded data removed]"
          },
          "metadata": {}
        }
      ]
    },
    {
      "cell_type": "code",
      "source": [
        "print(x)\n",
        "print('#########')\n",
        "print(y)"
      ],
      "metadata": {
        "colab": {
          "base_uri": "https://localhost:8080/"
        },
        "id": "3g3W_OZNE0UH",
        "outputId": "11c06b8d-8700-409c-f900-ebb0931539da"
      },
      "execution_count": null,
      "outputs": [
        {
          "output_type": "stream",
          "name": "stdout",
          "text": [
            "[-2.         -1.93939394 -1.87878788 -1.81818182 -1.75757576 -1.6969697\n",
            " -1.63636364 -1.57575758 -1.51515152 -1.45454545 -1.39393939 -1.33333333\n",
            " -1.27272727 -1.21212121 -1.15151515 -1.09090909 -1.03030303 -0.96969697\n",
            " -0.90909091 -0.84848485 -0.78787879 -0.72727273 -0.66666667 -0.60606061\n",
            " -0.54545455 -0.48484848 -0.42424242 -0.36363636 -0.3030303  -0.24242424\n",
            " -0.18181818 -0.12121212 -0.06060606  0.          0.06060606  0.12121212\n",
            "  0.18181818  0.24242424  0.3030303   0.36363636  0.42424242  0.48484848\n",
            "  0.54545455  0.60606061  0.66666667  0.72727273  0.78787879  0.84848485\n",
            "  0.90909091  0.96969697  1.03030303  1.09090909  1.15151515  1.21212121\n",
            "  1.27272727  1.33333333  1.39393939  1.45454545  1.51515152  1.57575758\n",
            "  1.63636364  1.6969697   1.75757576  1.81818182  1.87878788  1.93939394\n",
            "  2.          2.06060606  2.12121212  2.18181818  2.24242424  2.3030303\n",
            "  2.36363636  2.42424242  2.48484848  2.54545455  2.60606061  2.66666667\n",
            "  2.72727273  2.78787879  2.84848485  2.90909091  2.96969697  3.03030303\n",
            "  3.09090909  3.15151515  3.21212121  3.27272727  3.33333333  3.39393939\n",
            "  3.45454545  3.51515152  3.57575758  3.63636364  3.6969697   3.75757576\n",
            "  3.81818182  3.87878788  3.93939394  4.        ]\n",
            "#########\n",
            "[-4.         -3.12007124 -2.29757631 -1.53117956 -0.81954532 -0.1613379\n",
            "  0.44477836  1.00013913  1.50608008  1.96393689  2.37504522  2.74074074\n",
            "  3.06235913  3.34123605  3.57870718  3.77610819  3.93477474  4.05604252\n",
            "  4.14124718  4.19172441  4.20880986  4.19383922  4.14814815  4.07307232\n",
            "  3.96994741  3.84010908  3.68489301  3.50563486  3.30367031  3.08033503\n",
            "  2.83696469  2.57489496  2.2954615   2.          1.68984612  1.36633553\n",
            "  1.03080391  0.68458692  0.32902023 -0.03456048 -0.40481955 -0.78042129\n",
            " -1.16003005 -1.54231015 -1.92592593 -2.3095417  -2.6918218  -3.07143056\n",
            " -3.44703231 -3.81729137 -4.18087208 -4.53643877 -4.88265576 -5.21818738\n",
            " -5.54169797 -5.85185185 -6.14731335 -6.42674681 -6.68881654 -6.93218688\n",
            " -7.15552216 -7.35748671 -7.53674486 -7.69196093 -7.82179926 -7.92492417\n",
            " -8.         -8.04569107 -8.06066171 -8.04357626 -7.99309903 -7.90789437\n",
            " -7.7866266  -7.62796004 -7.43055903 -7.1930879  -6.91421098 -6.59259259\n",
            " -6.22689707 -5.81578874 -5.35793194 -4.85199098 -4.29663021 -3.69051395\n",
            " -3.03230654 -2.32067229 -1.55427554 -0.73178062  0.14814815  1.08684643\n",
            "  2.08564989  3.1458942   4.26891505  5.45604808  6.70862899  8.02799343\n",
            "  9.41547708 10.87241562 12.4001447  14.        ]\n"
          ]
        }
      ]
    },
    {
      "cell_type": "markdown",
      "source": [
        "# **Optimize Probles**"
      ],
      "metadata": {
        "id": "LAVPA4X8XFHU"
      }
    },
    {
      "cell_type": "code",
      "source": [
        "from scipy import optimize"
      ],
      "metadata": {
        "id": "0PggRF62XDMr"
      },
      "execution_count": null,
      "outputs": []
    },
    {
      "cell_type": "code",
      "source": [
        "#optimize."
      ],
      "metadata": {
        "id": "0dCNS7ItXPtU"
      },
      "execution_count": null,
      "outputs": []
    },
    {
      "cell_type": "code",
      "source": [
        "from scipy import optimize"
      ],
      "metadata": {
        "id": "O50NTaZBXSBx"
      },
      "execution_count": null,
      "outputs": []
    },
    {
      "cell_type": "code",
      "source": [
        "root = optimize.bisect(function,3,4)\n",
        "root"
      ],
      "metadata": {
        "colab": {
          "base_uri": "https://localhost:8080/"
        },
        "id": "FyMN-OBYXqF1",
        "outputId": "6319426b-6824-40e6-cbe8-b06295ae430b"
      },
      "execution_count": null,
      "outputs": [
        {
          "output_type": "execute_result",
          "data": {
            "text/plain": [
              "3.323404276086876"
            ]
          },
          "metadata": {},
          "execution_count": 10
        }
      ]
    },
    {
      "cell_type": "code",
      "source": [
        "root1 = optimize.bisect(function,-2,-1)\n",
        "root1"
      ],
      "metadata": {
        "colab": {
          "base_uri": "https://localhost:8080/"
        },
        "id": "7q7fS8w3XxmA",
        "outputId": "f1f1ee92-9cb7-4472-d626-c5d5f568bac6"
      },
      "execution_count": null,
      "outputs": [
        {
          "output_type": "execute_result",
          "data": {
            "text/plain": [
              "-1.68133064360336"
            ]
          },
          "metadata": {},
          "execution_count": 11
        }
      ]
    },
    {
      "cell_type": "code",
      "source": [
        "root = optimize.bisect(function,0,1);root"
      ],
      "metadata": {
        "colab": {
          "base_uri": "https://localhost:8080/"
        },
        "id": "WaMGnp5pYCL5",
        "outputId": "8a45482a-5516-49a3-c086-8caae196d45a"
      },
      "execution_count": null,
      "outputs": [
        {
          "output_type": "execute_result",
          "data": {
            "text/plain": [
              "0.35792636751830287"
            ]
          },
          "metadata": {},
          "execution_count": 12
        }
      ]
    },
    {
      "cell_type": "code",
      "source": [
        "root = optimize.bisect(function,5,7);root\n",
        "# because of there are not roots between the interval 5 and 7"
      ],
      "metadata": {
        "colab": {
          "base_uri": "https://localhost:8080/",
          "height": 305
        },
        "id": "V0kZtiuhYqaV",
        "outputId": "419aa998-044b-4d79-f796-b5e60e080c5b"
      },
      "execution_count": null,
      "outputs": [
        {
          "output_type": "error",
          "ename": "ValueError",
          "evalue": "f(a) and f(b) must have different signs",
          "traceback": [
            "\u001b[0;31m---------------------------------------------------------------------------\u001b[0m",
            "\u001b[0;31mValueError\u001b[0m                                Traceback (most recent call last)",
            "\u001b[0;32m<ipython-input-13-4ec868614f38>\u001b[0m in \u001b[0;36m<cell line: 1>\u001b[0;34m()\u001b[0m\n\u001b[0;32m----> 1\u001b[0;31m \u001b[0mroot\u001b[0m \u001b[0;34m=\u001b[0m \u001b[0moptimize\u001b[0m\u001b[0;34m.\u001b[0m\u001b[0mbisect\u001b[0m\u001b[0;34m(\u001b[0m\u001b[0mfunction\u001b[0m\u001b[0;34m,\u001b[0m\u001b[0;36m5\u001b[0m\u001b[0;34m,\u001b[0m\u001b[0;36m7\u001b[0m\u001b[0;34m)\u001b[0m\u001b[0;34m;\u001b[0m\u001b[0mroot\u001b[0m\u001b[0;34m\u001b[0m\u001b[0;34m\u001b[0m\u001b[0m\n\u001b[0m",
            "\u001b[0;32m/usr/local/lib/python3.10/dist-packages/scipy/optimize/_zeros_py.py\u001b[0m in \u001b[0;36mbisect\u001b[0;34m(f, a, b, args, xtol, rtol, maxiter, full_output, disp)\u001b[0m\n\u001b[1;32m    571\u001b[0m         \u001b[0;32mraise\u001b[0m \u001b[0mValueError\u001b[0m\u001b[0;34m(\u001b[0m\u001b[0;34mf\"rtol too small ({rtol:g} < {_rtol:g})\"\u001b[0m\u001b[0;34m)\u001b[0m\u001b[0;34m\u001b[0m\u001b[0;34m\u001b[0m\u001b[0m\n\u001b[1;32m    572\u001b[0m     \u001b[0mf\u001b[0m \u001b[0;34m=\u001b[0m \u001b[0m_wrap_nan_raise\u001b[0m\u001b[0;34m(\u001b[0m\u001b[0mf\u001b[0m\u001b[0;34m)\u001b[0m\u001b[0;34m\u001b[0m\u001b[0;34m\u001b[0m\u001b[0m\n\u001b[0;32m--> 573\u001b[0;31m     \u001b[0mr\u001b[0m \u001b[0;34m=\u001b[0m \u001b[0m_zeros\u001b[0m\u001b[0;34m.\u001b[0m\u001b[0m_bisect\u001b[0m\u001b[0;34m(\u001b[0m\u001b[0mf\u001b[0m\u001b[0;34m,\u001b[0m \u001b[0ma\u001b[0m\u001b[0;34m,\u001b[0m \u001b[0mb\u001b[0m\u001b[0;34m,\u001b[0m \u001b[0mxtol\u001b[0m\u001b[0;34m,\u001b[0m \u001b[0mrtol\u001b[0m\u001b[0;34m,\u001b[0m \u001b[0mmaxiter\u001b[0m\u001b[0;34m,\u001b[0m \u001b[0margs\u001b[0m\u001b[0;34m,\u001b[0m \u001b[0mfull_output\u001b[0m\u001b[0;34m,\u001b[0m \u001b[0mdisp\u001b[0m\u001b[0;34m)\u001b[0m\u001b[0;34m\u001b[0m\u001b[0;34m\u001b[0m\u001b[0m\n\u001b[0m\u001b[1;32m    574\u001b[0m     \u001b[0;32mreturn\u001b[0m \u001b[0mresults_c\u001b[0m\u001b[0;34m(\u001b[0m\u001b[0mfull_output\u001b[0m\u001b[0;34m,\u001b[0m \u001b[0mr\u001b[0m\u001b[0;34m)\u001b[0m\u001b[0;34m\u001b[0m\u001b[0;34m\u001b[0m\u001b[0m\n\u001b[1;32m    575\u001b[0m \u001b[0;34m\u001b[0m\u001b[0m\n",
            "\u001b[0;31mValueError\u001b[0m: f(a) and f(b) must have different signs"
          ]
        }
      ]
    },
    {
      "cell_type": "markdown",
      "source": [
        "# **Interpolation**"
      ],
      "metadata": {
        "id": "AKwnWzxSZGYK"
      }
    },
    {
      "cell_type": "markdown",
      "source": [
        "Interopolation is a method of deriving a simple function from the given discrete data set such that the function passes through the provided data points.this helps to determine the data points in between the given data ones.this method is always needed to compute the value of function for an intermediate value of the independent function. in short, interpolation is a process of determining the unkown value that lie in between the known data points such as noise level,rainfall, elevation,and so on."
      ],
      "metadata": {
        "id": "hLKrQCELZKrK"
      }
    },
    {
      "cell_type": "code",
      "source": [
        "import scipy"
      ],
      "metadata": {
        "id": "aTxg13GU49lp"
      },
      "execution_count": null,
      "outputs": []
    },
    {
      "cell_type": "code",
      "source": [
        "#scipy.interpolate"
      ],
      "metadata": {
        "id": "EuZTwgWE5DZm"
      },
      "execution_count": null,
      "outputs": []
    },
    {
      "cell_type": "code",
      "source": [
        "from scipy.interpolate import interp1d"
      ],
      "metadata": {
        "id": "DxOQmpLY5EZV"
      },
      "execution_count": null,
      "outputs": []
    },
    {
      "cell_type": "code",
      "source": [
        "import numpy as np\n",
        "import matplotlib.pyplot as plt\n",
        "x = np.array([0.,1.,3.,4.,5.,7.,8.])\n",
        "y = np.array([0.,4.,3.,2.,1.,-1.,0.])\n",
        "plt.scatter(x,y)\n",
        "plt.show()"
      ],
      "metadata": {
        "colab": {
          "base_uri": "https://localhost:8080/",
          "height": 430
        },
        "id": "K7C1pmW75VMb",
        "outputId": "1a7c2ae4-cca3-4335-e1f4-5c371d86bcc9"
      },
      "execution_count": null,
      "outputs": [
        {
          "output_type": "display_data",
          "data": {
            "text/plain": [
              "<Figure size 640x480 with 1 Axes>"
            ],
            "image/png": "[encoded data removed]"
          },
          "metadata": {}
        }
      ]
    },
    {
      "cell_type": "code",
      "source": [
        "import numpy as np\n",
        "x = np.array([0.,1.,3.,4.,5.,7.,8.])\n",
        "y = np.array([0.,4.,3.,2.,2.,1.,-1.])\n",
        "print(x)\n",
        "print(y)"
      ],
      "metadata": {
        "colab": {
          "base_uri": "https://localhost:8080/"
        },
        "id": "je4zj7zD5VI3",
        "outputId": "ce74cfb1-5716-4f66-ba47-99fb5a982732"
      },
      "execution_count": null,
      "outputs": [
        {
          "output_type": "stream",
          "name": "stdout",
          "text": [
            "[0. 1. 3. 4. 5. 7. 8.]\n",
            "[ 0.  4.  3.  2.  2.  1. -1.]\n"
          ]
        }
      ]
    },
    {
      "cell_type": "code",
      "source": [
        "plt.scatter(x,y)\n",
        "plt.show()"
      ],
      "metadata": {
        "colab": {
          "base_uri": "https://localhost:8080/",
          "height": 430
        },
        "id": "DbpW1BtI5VGK",
        "outputId": "76bd88bf-b669-4284-ba2b-5cea6ced9337"
      },
      "execution_count": null,
      "outputs": [
        {
          "output_type": "display_data",
          "data": {
            "text/plain": [
              "<Figure size 640x480 with 1 Axes>"
            ],
            "image/png": "[encoded data removed]"
          },
          "metadata": {}
        }
      ]
    },
    {
      "cell_type": "code",
      "source": [
        "p = interp1d(x,y)\n",
        "p(2.5),p(2),p(5)"
      ],
      "metadata": {
        "colab": {
          "base_uri": "https://localhost:8080/"
        },
        "id": "ZWyyy_RI5VEA",
        "outputId": "37a2e8c6-2bcb-4af2-b4a2-104cf086e78c"
      },
      "execution_count": null,
      "outputs": [
        {
          "output_type": "execute_result",
          "data": {
            "text/plain": [
              "(array(3.25), array(3.5), array(2.))"
            ]
          },
          "metadata": {},
          "execution_count": 15
        }
      ]
    },
    {
      "cell_type": "code",
      "source": [
        "p = interp1d(x,y)"
      ],
      "metadata": {
        "id": "kXFc0oyQ5VBR"
      },
      "execution_count": null,
      "outputs": []
    },
    {
      "cell_type": "code",
      "source": [
        "xnew = np.arange(0,8,0.1)\n",
        "ynew = p(xnew)\n",
        "plt.plot(x,y,'o',xnew,ynew,'-')\n",
        "plt.show()"
      ],
      "metadata": {
        "colab": {
          "base_uri": "https://localhost:8080/",
          "height": 430
        },
        "id": "zfUhCa6n5U6r",
        "outputId": "5b23440e-f9ed-4cd2-cf9c-c2874c4d0a49"
      },
      "execution_count": null,
      "outputs": [
        {
          "output_type": "display_data",
          "data": {
            "text/plain": [
              "<Figure size 640x480 with 1 Axes>"
            ],
            "image/png": "[encoded data removed]"
          },
          "metadata": {}
        }
      ]
    },
    {
      "cell_type": "code",
      "source": [
        "import numpy as np\n",
        "from scipy.optimize import curve_fit\n",
        "np.random.seed(0)\n",
        "xdata =np.linspace(-5,5,50)\n",
        "ydata = 3* np.sin(2*xdata)+np.random.normal(size=50)"
      ],
      "metadata": {
        "id": "2CuseNYg5Ut_"
      },
      "execution_count": null,
      "outputs": []
    },
    {
      "cell_type": "code",
      "source": [
        "print(xdata)"
      ],
      "metadata": {
        "id": "8BqZOdNT5UjQ",
        "colab": {
          "base_uri": "https://localhost:8080/"
        },
        "outputId": "06fd9fd5-8f8d-48c4-f639-5b26844b123f"
      },
      "execution_count": null,
      "outputs": [
        {
          "output_type": "stream",
          "name": "stdout",
          "text": [
            "[-5.         -4.79591837 -4.59183673 -4.3877551  -4.18367347 -3.97959184\n",
            " -3.7755102  -3.57142857 -3.36734694 -3.16326531 -2.95918367 -2.75510204\n",
            " -2.55102041 -2.34693878 -2.14285714 -1.93877551 -1.73469388 -1.53061224\n",
            " -1.32653061 -1.12244898 -0.91836735 -0.71428571 -0.51020408 -0.30612245\n",
            " -0.10204082  0.10204082  0.30612245  0.51020408  0.71428571  0.91836735\n",
            "  1.12244898  1.32653061  1.53061224  1.73469388  1.93877551  2.14285714\n",
            "  2.34693878  2.55102041  2.75510204  2.95918367  3.16326531  3.36734694\n",
            "  3.57142857  3.7755102   3.97959184  4.18367347  4.3877551   4.59183673\n",
            "  4.79591837  5.        ]\n"
          ]
        }
      ]
    },
    {
      "cell_type": "markdown",
      "source": [],
      "metadata": {
        "id": "uVADOJrT47Gx"
      }
    },
    {
      "cell_type": "code",
      "source": [
        "ydata"
      ],
      "metadata": {
        "id": "2qqpI0SgY0HX",
        "colab": {
          "base_uri": "https://localhost:8080/"
        },
        "outputId": "be6a42fa-fc85-41f3-e310-62db74790546"
      },
      "execution_count": null,
      "outputs": [
        {
          "output_type": "execute_result",
          "data": {
            "text/plain": [
              "array([ 3.39611568,  0.89900559,  0.26241204,  0.42708325, -0.74573212,\n",
              "       -3.96069198, -1.91328318, -2.42424245, -1.41218913,  0.2806033 ,\n",
              "        1.21438129,  3.54909069,  3.53616184,  3.12116102,  3.17490407,\n",
              "        2.34756771,  2.45994802, -0.44600329, -1.09492114, -3.19789981,\n",
              "       -5.44752874, -2.31609063, -1.69252851, -2.46628314,  1.66175081,\n",
              "       -0.84636186,  1.76987664,  2.36978086,  4.50248844,  4.3638977 ,\n",
              "        2.4987515 ,  1.78615136, -0.64694072, -2.94666541, -2.36180553,\n",
              "       -2.57469186, -1.76919532, -1.57274427, -2.482144  , -1.37264047,\n",
              "       -0.91855776, -0.11104766,  0.56661506,  4.81414699,  2.47376192,\n",
              "        2.17521581,  0.56101459,  1.4938163 , -2.11274623, -1.84480361])"
            ]
          },
          "metadata": {},
          "execution_count": 20
        }
      ]
    },
    {
      "cell_type": "code",
      "source": [
        "plt.figure(figsize=(6,4))\n",
        "plt.scatter(xdata,ydata)\n",
        "plt.show()\n"
      ],
      "metadata": {
        "colab": {
          "base_uri": "https://localhost:8080/",
          "height": 368
        },
        "id": "d-vKWQqUHSP-",
        "outputId": "f7c3f5d8-7c22-4e37-c038-879177eeccac"
      },
      "execution_count": null,
      "outputs": [
        {
          "output_type": "display_data",
          "data": {
            "text/plain": [
              "<Figure size 600x400 with 1 Axes>"
            ],
            "image/png": "[encoded data removed]"
          },
          "metadata": {}
        }
      ]
    },
    {
      "cell_type": "code",
      "source": [
        "def test_func(x,a,b):\n",
        " return a*np.sin(b*x)"
      ],
      "metadata": {
        "id": "4F7A3o_AHZAx"
      },
      "execution_count": null,
      "outputs": []
    },
    {
      "cell_type": "code",
      "source": [
        "\n",
        "coeffs, params_covariance = curve_fit(test_func,xdata,ydata,p0=[2,2])\n",
        "print(coeffs)"
      ],
      "metadata": {
        "colab": {
          "base_uri": "https://localhost:8080/"
        },
        "id": "mcQtRazgH2la",
        "outputId": "fc416d9a-2991-475c-edec-ad30bc9fa0c9"
      },
      "execution_count": null,
      "outputs": [
        {
          "output_type": "stream",
          "name": "stdout",
          "text": [
            "[3.13623928 2.03528224]\n"
          ]
        }
      ]
    },
    {
      "cell_type": "code",
      "source": [
        "\n",
        "params_covariance"
      ],
      "metadata": {
        "colab": {
          "base_uri": "https://localhost:8080/"
        },
        "id": "n7TCB99uH3Tt",
        "outputId": "d9d64aae-cd03-4b32-ac29-6306e3f5e04f"
      },
      "execution_count": null,
      "outputs": [
        {
          "output_type": "execute_result",
          "data": {
            "text/plain": [
              "array([[ 0.05348167, -0.00016806],\n",
              "       [-0.00016806,  0.00052677]])"
            ]
          },
          "metadata": {},
          "execution_count": 24
        }
      ]
    },
    {
      "cell_type": "code",
      "source": [
        "plt.figure(figsize=(6,5))\n",
        "yfitted = test_func(xdata,coeffs[0],coeffs[1])\n",
        "plt.scatter(xdata,ydata, label =' Numerical Data')\n",
        "plt.plot(xdata, yfitted,label='Fitted function',color= 'red')\n",
        "plt.show()"
      ],
      "metadata": {
        "colab": {
          "base_uri": "https://localhost:8080/",
          "height": 445
        },
        "id": "PxlIjoWlICpt",
        "outputId": "e36d16c0-3e35-46af-cb1f-98ce22b49c6a"
      },
      "execution_count": null,
      "outputs": [
        {
          "output_type": "display_data",
          "data": {
            "text/plain": [
              "<Figure size 600x500 with 1 Axes>"
            ],
            "image/png": "[encoded data removed]"
          },
          "metadata": {}
        }
      ]
    },
    {
      "cell_type": "markdown",
      "source": [
        "# **Solving ODE**"
      ],
      "metadata": {
        "id": "HPwsjPJ9JPYB"
      }
    },
    {
      "cell_type": "markdown",
      "source": [
        "solve $\\frac{dy}{dx}$ = $\\frac{x-y}{$x^2$+$y^2$}$, y(0)=1"
      ],
      "metadata": {
        "id": "qL-BYNfPgG_q"
      }
    },
    {
      "cell_type": "code",
      "source": [
        "from scipy.integrate import odeint"
      ],
      "metadata": {
        "id": "Xtgu9McqIvIo"
      },
      "execution_count": null,
      "outputs": []
    },
    {
      "cell_type": "code",
      "source": [
        "# Define a function which calculates the derivatives\n",
        "def dy_dx(y,x):\n",
        "  return(x - y)/(x**2 + y**2)"
      ],
      "metadata": {
        "id": "tj-0VX2_bGgb"
      },
      "execution_count": null,
      "outputs": []
    },
    {
      "cell_type": "code",
      "source": [
        "xs = np.linspace(-3,3,100)\n",
        "y0 =1.0 # the initial condition\n",
        "ys = odeint(dy_dx,y0,xs)\n",
        "ys = np.array(ys).flatten()\n"
      ],
      "metadata": {
        "id": "66ij7tyqbg58"
      },
      "execution_count": null,
      "outputs": []
    },
    {
      "cell_type": "code",
      "source": [
        "plt.xlabel(\"x\")\n",
        "plt.ylabel(\"y\")\n",
        "plt.plot(xs, ys);"
      ],
      "metadata": {
        "colab": {
          "base_uri": "https://localhost:8080/",
          "height": 449
        },
        "id": "BnmPN2ZgcJpF",
        "outputId": "7b5ce77f-89d8-4ecb-972c-dff1dcdf9b4b"
      },
      "execution_count": null,
      "outputs": [
        {
          "output_type": "display_data",
          "data": {
            "text/plain": [
              "<Figure size 640x480 with 1 Axes>"
            ],
            "image/png": "[encoded data removed]"
          },
          "metadata": {}
        }
      ]
    },
    {
      "cell_type": "markdown",
      "source": [
        "# **use of Sympy**"
      ],
      "metadata": {
        "id": "8LfS3yptdaiI"
      }
    },
    {
      "cell_type": "markdown",
      "source": [
        " **what is sympy?**"
      ],
      "metadata": {
        "id": "_iLRybOzdfUE"
      }
    },
    {
      "cell_type": "markdown",
      "source": [
        "Sympy (standard for symbolic python) is a python library for symbolic computations in mathematics.it aims to becomes a full-featured computer algebra system (CAS). sympy is written entirely in python."
      ],
      "metadata": {
        "id": "308kQqKqdlqu"
      }
    },
    {
      "cell_type": "code",
      "source": [
        "from sympy import*"
      ],
      "metadata": {
        "id": "lsecNYTKcgez"
      },
      "execution_count": null,
      "outputs": []
    },
    {
      "cell_type": "code",
      "source": [
        "x, y, z, t = symbols('x, y, z, t')"
      ],
      "metadata": {
        "id": "MFUw71doeQAY"
      },
      "execution_count": null,
      "outputs": []
    },
    {
      "cell_type": "code",
      "source": [
        "expand((x-y)**4)"
      ],
      "metadata": {
        "colab": {
          "base_uri": "https://localhost:8080/",
          "height": 38
        },
        "id": "BC43COuseXnD",
        "outputId": "74c24cd6-08b6-4732-c697-ddc094b56ede"
      },
      "execution_count": null,
      "outputs": [
        {
          "output_type": "execute_result",
          "data": {
            "text/plain": [
              "x**4 - 4*x**3*y + 6*x**2*y**2 - 4*x*y**3 + y**4"
            ],
            "text/latex": "$\\displaystyle x^{4} - 4 x^{3} y + 6 x^{2} y^{2} - 4 x y^{3} + y^{4}$"
          },
          "metadata": {},
          "execution_count": 22
        }
      ]
    },
    {
      "cell_type": "code",
      "source": [
        "expand((2*x-3*y)**6)"
      ],
      "metadata": {
        "colab": {
          "base_uri": "https://localhost:8080/",
          "height": 38
        },
        "id": "RbiM8eYbefN4",
        "outputId": "ad844173-8872-409b-f4e8-6867c254a80a"
      },
      "execution_count": null,
      "outputs": [
        {
          "output_type": "execute_result",
          "data": {
            "text/plain": [
              "64*x**6 - 576*x**5*y + 2160*x**4*y**2 - 4320*x**3*y**3 + 4860*x**2*y**4 - 2916*x*y**5 + 729*y**6"
            ],
            "text/latex": "$\\displaystyle 64 x^{6} - 576 x^{5} y + 2160 x^{4} y^{2} - 4320 x^{3} y^{3} + 4860 x^{2} y^{4} - 2916 x y^{5} + 729 y^{6}$"
          },
          "metadata": {},
          "execution_count": 23
        }
      ]
    },
    {
      "cell_type": "code",
      "source": [
        "factor(x**3-y**3)"
      ],
      "metadata": {
        "colab": {
          "base_uri": "https://localhost:8080/",
          "height": 38
        },
        "id": "VD7UarytenzX",
        "outputId": "5aeaba6e-77d4-414a-beaa-9a3f86357ccd"
      },
      "execution_count": null,
      "outputs": [
        {
          "output_type": "execute_result",
          "data": {
            "text/plain": [
              "(x - y)*(x**2 + x*y + y**2)"
            ],
            "text/latex": "$\\displaystyle \\left(x - y\\right) \\left(x^{2} + x y + y^{2}\\right)$"
          },
          "metadata": {},
          "execution_count": 24
        }
      ]
    },
    {
      "cell_type": "code",
      "source": [
        "factor(x**3 - 3*x**2*y + x**2*z + 2*x*y**2 - 2*x*y*z +x*z - y*z + z**2)"
      ],
      "metadata": {
        "colab": {
          "base_uri": "https://localhost:8080/",
          "height": 38
        },
        "id": "X1e_Ao4ietdC",
        "outputId": "3dd82551-f160-4e81-e226-c2fffa6925af"
      },
      "execution_count": null,
      "outputs": [
        {
          "output_type": "execute_result",
          "data": {
            "text/plain": [
              "(x - y + z)*(x**2 - 2*x*y + z)"
            ],
            "text/latex": "$\\displaystyle \\left(x - y + z\\right) \\left(x^{2} - 2 x y + z\\right)$"
          },
          "metadata": {},
          "execution_count": 25
        }
      ]
    },
    {
      "cell_type": "code",
      "source": [
        "diff(cos(x),x)"
      ],
      "metadata": {
        "colab": {
          "base_uri": "https://localhost:8080/",
          "height": 38
        },
        "id": "Jud_vdHMfJH8",
        "outputId": "ab86bb5f-c4c1-4a2a-b3cf-d1e4860816bb"
      },
      "execution_count": null,
      "outputs": [
        {
          "output_type": "execute_result",
          "data": {
            "text/plain": [
              "-sin(x)"
            ],
            "text/latex": "$\\displaystyle - \\sin{\\left(x \\right)}$"
          },
          "metadata": {},
          "execution_count": 36
        }
      ]
    },
    {
      "cell_type": "code",
      "source": [
        "diff(exp(2*x+y**2-x*y), x)"
      ],
      "metadata": {
        "colab": {
          "base_uri": "https://localhost:8080/",
          "height": 40
        },
        "id": "Pi96uqUVfW-p",
        "outputId": "3734c966-274a-42e8-f385-adc5c4a50d77"
      },
      "execution_count": null,
      "outputs": [
        {
          "output_type": "execute_result",
          "data": {
            "text/plain": [
              "(2 - y)*exp(-x*y + 2*x + y**2)"
            ],
            "text/latex": "$\\displaystyle \\left(2 - y\\right) e^{- x y + 2 x + y^{2}}$"
          },
          "metadata": {},
          "execution_count": 37
        }
      ]
    },
    {
      "cell_type": "code",
      "source": [
        "diff(exp(2*x+y**2), y,x)"
      ],
      "metadata": {
        "colab": {
          "base_uri": "https://localhost:8080/",
          "height": 40
        },
        "id": "IY1Jokw7fgxo",
        "outputId": "cdc02db8-e6c5-4c9e-feca-51f62d392622"
      },
      "execution_count": null,
      "outputs": [
        {
          "output_type": "execute_result",
          "data": {
            "text/plain": [
              "4*y*exp(2*x + y**2)"
            ],
            "text/latex": "$\\displaystyle 4 y e^{2 x + y^{2}}$"
          },
          "metadata": {},
          "execution_count": 38
        }
      ]
    },
    {
      "cell_type": "code",
      "source": [
        "diff(exp(2*x+y**2), y,2)"
      ],
      "metadata": {
        "colab": {
          "base_uri": "https://localhost:8080/",
          "height": 40
        },
        "id": "Ej74pKLNfn_Q",
        "outputId": "a50fd3ea-c700-46c2-f9de-46b7f1f87df2"
      },
      "execution_count": null,
      "outputs": [
        {
          "output_type": "execute_result",
          "data": {
            "text/plain": [
              "2*(2*y**2 + 1)*exp(2*x + y**2)"
            ],
            "text/latex": "$\\displaystyle 2 \\cdot \\left(2 y^{2} + 1\\right) e^{2 x + y^{2}}$"
          },
          "metadata": {},
          "execution_count": 39
        }
      ]
    },
    {
      "cell_type": "code",
      "source": [
        "limit(sin(x)/x,x,0)"
      ],
      "metadata": {
        "colab": {
          "base_uri": "https://localhost:8080/",
          "height": 37
        },
        "id": "tLn7D1EyfwII",
        "outputId": "9e075f7b-fde1-4ee3-c6fb-77f823cd4145"
      },
      "execution_count": null,
      "outputs": [
        {
          "output_type": "execute_result",
          "data": {
            "text/plain": [
              "1"
            ],
            "text/latex": "$\\displaystyle 1$"
          },
          "metadata": {},
          "execution_count": 40
        }
      ]
    },
    {
      "cell_type": "code",
      "source": [
        "limit(sin(x)/x,x,0,dir='+')"
      ],
      "metadata": {
        "colab": {
          "base_uri": "https://localhost:8080/",
          "height": 37
        },
        "id": "3vN6c8Eif1Rp",
        "outputId": "7c5f9131-0dda-46c4-d42f-0c03a29671aa"
      },
      "execution_count": null,
      "outputs": [
        {
          "output_type": "execute_result",
          "data": {
            "text/plain": [
              "1"
            ],
            "text/latex": "$\\displaystyle 1$"
          },
          "metadata": {},
          "execution_count": 41
        }
      ]
    },
    {
      "cell_type": "code",
      "source": [
        "limit(sin(x)/x,x,0,dir='-')"
      ],
      "metadata": {
        "colab": {
          "base_uri": "https://localhost:8080/",
          "height": 37
        },
        "id": "bA_jrPMQf8PT",
        "outputId": "310162fb-78c1-490a-e29d-96775fbeb163"
      },
      "execution_count": null,
      "outputs": [
        {
          "output_type": "execute_result",
          "data": {
            "text/plain": [
              "1"
            ],
            "text/latex": "$\\displaystyle 1$"
          },
          "metadata": {},
          "execution_count": 42
        }
      ]
    },
    {
      "cell_type": "code",
      "source": [
        "solve(2*x**2+3*x-5,x)"
      ],
      "metadata": {
        "colab": {
          "base_uri": "https://localhost:8080/"
        },
        "id": "Y94B3LOygD1a",
        "outputId": "d2ba707c-6dc8-42ac-f6ec-1a694f841368"
      },
      "execution_count": null,
      "outputs": [
        {
          "output_type": "execute_result",
          "data": {
            "text/plain": [
              "[-5/2, 1]"
            ]
          },
          "metadata": {},
          "execution_count": 43
        }
      ]
    },
    {
      "cell_type": "code",
      "source": [
        "a,b,c = symbols('a,b,c')\n",
        "solve(a*x**2+b*x+c,x)"
      ],
      "metadata": {
        "colab": {
          "base_uri": "https://localhost:8080/"
        },
        "id": "9k0EKbgPgKX9",
        "outputId": "e638a4a6-269f-44cd-8f2a-b2b56da8bc19"
      },
      "execution_count": null,
      "outputs": [
        {
          "output_type": "execute_result",
          "data": {
            "text/plain": [
              "[(-b - sqrt(-4*a*c + b**2))/(2*a), (-b + sqrt(-4*a*c + b**2))/(2*a)]"
            ]
          },
          "metadata": {},
          "execution_count": 44
        }
      ]
    },
    {
      "cell_type": "code",
      "source": [
        "M = Matrix([[3,-2,4,-2], [5,3,-3,-2], [8,1,1,-4], [5,-2,2, -2]])\n",
        "M"
      ],
      "metadata": {
        "colab": {
          "base_uri": "https://localhost:8080/",
          "height": 99
        },
        "id": "bA4OmvL-gXA_",
        "outputId": "18bd5e8b-1965-4460-f6cc-25e53aceba48"
      },
      "execution_count": null,
      "outputs": [
        {
          "output_type": "execute_result",
          "data": {
            "text/plain": [
              "Matrix([\n",
              "[3, -2,  4, -2],\n",
              "[5,  3, -3, -2],\n",
              "[8,  1,  1, -4],\n",
              "[5, -2,  2, -2]])"
            ],
            "text/latex": "$\\displaystyle \\left[\\begin{matrix}3 & -2 & 4 & -2\\\\5 & 3 & -3 & -2\\\\8 & 1 & 1 & -4\\\\5 & -2 & 2 & -2\\end{matrix}\\right]$"
          },
          "metadata": {},
          "execution_count": 46
        }
      ]
    },
    {
      "cell_type": "code",
      "source": [
        "M.det()"
      ],
      "metadata": {
        "colab": {
          "base_uri": "https://localhost:8080/",
          "height": 37
        },
        "id": "gvFYVuj9gsSN",
        "outputId": "4e77e392-88cd-4e7f-dd37-5c4388ff7098"
      },
      "execution_count": null,
      "outputs": [
        {
          "output_type": "execute_result",
          "data": {
            "text/plain": [
              "0"
            ],
            "text/latex": "$\\displaystyle 0$"
          },
          "metadata": {},
          "execution_count": 47
        }
      ]
    },
    {
      "cell_type": "code",
      "source": [
        "M.rref()"
      ],
      "metadata": {
        "colab": {
          "base_uri": "https://localhost:8080/"
        },
        "id": "XKiDwkf-gzuM",
        "outputId": "f43be39d-b869-4b1e-cf2c-c2f2c502f01b"
      },
      "execution_count": null,
      "outputs": [
        {
          "output_type": "execute_result",
          "data": {
            "text/plain": [
              "(Matrix([\n",
              " [1, 0, 0, -2/5],\n",
              " [0, 1, 0, -2/5],\n",
              " [0, 0, 1, -2/5],\n",
              " [0, 0, 0,    0]]),\n",
              " (0, 1, 2))"
            ]
          },
          "metadata": {},
          "execution_count": 48
        }
      ]
    },
    {
      "cell_type": "code",
      "source": [
        "M.rank()"
      ],
      "metadata": {
        "colab": {
          "base_uri": "https://localhost:8080/"
        },
        "id": "aZ7Qj3Usg3rh",
        "outputId": "9272938b-361d-4dab-b79b-4c6e243516b7"
      },
      "execution_count": null,
      "outputs": [
        {
          "output_type": "execute_result",
          "data": {
            "text/plain": [
              "3"
            ]
          },
          "metadata": {},
          "execution_count": 49
        }
      ]
    },
    {
      "cell_type": "code",
      "source": [
        "M.pinv()"
      ],
      "metadata": {
        "colab": {
          "base_uri": "https://localhost:8080/",
          "height": 99
        },
        "id": "BPVBNmbNg6ej",
        "outputId": "1f3145d4-ad30-42e1-825e-0fa3b9923015"
      },
      "execution_count": null,
      "outputs": [
        {
          "output_type": "execute_result",
          "data": {
            "text/plain": [
              "Matrix([\n",
              "[-46/555,    32/555,  -14/555,   39/185],\n",
              "[ 34/185,     9/370,   77/370, -181/370],\n",
              "[139/555, -121/1110, 157/1110, -107/370],\n",
              "[-26/185,     2/185,  -24/185,   42/185]])"
            ],
            "text/latex": "$\\displaystyle \\left[\\begin{matrix}- \\frac{46}{555} & \\frac{32}{555} & - \\frac{14}{555} & \\frac{39}{185}\\\\\\frac{34}{185} & \\frac{9}{370} & \\frac{77}{370} & - \\frac{181}{370}\\\\\\frac{139}{555} & - \\frac{121}{1110} & \\frac{157}{1110} & - \\frac{107}{370}\\\\- \\frac{26}{185} & \\frac{2}{185} & - \\frac{24}{185} & \\frac{42}{185}\\end{matrix}\\right]$"
          },
          "metadata": {},
          "execution_count": 50
        }
      ]
    },
    {
      "cell_type": "code",
      "source": [],
      "metadata": {
        "id": "_otL2ohnhVHM"
      },
      "execution_count": null,
      "outputs": []
    }
  ]
}